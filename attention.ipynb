{
 "cells": [
  {
   "cell_type": "markdown",
   "id": "024ae715-a866-4f94-8eb4-9998cdcaec58",
   "metadata": {},
   "source": [
    "### Display last self-attention \n",
    "* https://github.com/huggingface/pytorch-image-models/discussions/1232\n",
    "* https://gitlab.com/ziegleto-machine-learning/dino/-/tree/main/"
   ]
  },
  {
   "cell_type": "code",
   "execution_count": 2,
   "id": "e788ec63-2f03-4992-bd5d-8b0b2183e62c",
   "metadata": {},
   "outputs": [
    {
     "name": "stderr",
     "output_type": "stream",
     "text": [
      "/home/gridsan/manderson/.conda/envs/test/lib/python3.9/site-packages/tqdm/auto.py:21: TqdmWarning: IProgress not found. Please update jupyter and ipywidgets. See https://ipywidgets.readthedocs.io/en/stable/user_install.html\n",
      "  from .autonotebook import tqdm as notebook_tqdm\n"
     ]
    }
   ],
   "source": [
    "import numpy as np\n",
    "from PIL import Image\n",
    "import matplotlib.pyplot as plt\n",
    "import torch.nn as nn\n",
    "import torch.nn.functional as F\n",
    "from torchvision.transforms import Compose, Resize, CenterCrop, Normalize, ToTensor\n",
    "from torchvision import transforms as pth_transforms\n",
    "from utils_dir.backbones_utils import extract_backbone_features, load_backbone"
   ]
  },
  {
   "cell_type": "code",
   "execution_count": 53,
   "id": "2fc4fbc2-68ea-444f-85c0-71c7655e9b64",
   "metadata": {},
   "outputs": [],
   "source": [
    "def to_tensor(img, patch_size):\n",
    "    #transform_fn = Compose([Resize(249, 3), CenterCrop(224), ToTensor(), Normalize((0.5, 0.5, 0.5), (0.5, 0.5, 0.5))])\n",
    "    #return transform_fn(img)\n",
    "    transform = pth_transforms.Compose([\n",
    "    pth_transforms.ToTensor(),\n",
    "    pth_transforms.Normalize((0.485, 0.456, 0.406), (0.229, 0.224, 0.225)),\n",
    "    ])\n",
    "    img = transform(img)\n",
    "    w, h = img.shape[1] - img.shape[1] % patch_size, img.shape[2] - img.shape[2] % patch_size\n",
    "    img = img[:, :w, :h]\n",
    "    return img\n",
    "\n",
    "def show_img(img):\n",
    "    img = np.asarray(img)\n",
    "    plt.figure(figsize=(10, 10))\n",
    "    plt.imshow(img)\n",
    "    plt.axis('off')\n",
    "    plt.show()\n",
    "\n",
    "def show_img2(img1, img2, alpha=0.8):\n",
    "    img1 = np.asarray(img1)\n",
    "    img2 = np.asarray(img2)\n",
    "    plt.figure(figsize=(10, 10))\n",
    "    plt.imshow(img1)\n",
    "    plt.imshow(img2, alpha=alpha)\n",
    "    plt.axis('off')\n",
    "    plt.show()\n",
    "\n",
    "def my_forward_wrapper(attn_obj):\n",
    "    def my_forward(x):\n",
    "    \n",
    "        \n",
    "        B, N, C = x.shape\n",
    "        qkv = attn_obj.qkv(x).reshape(B, N, 3, attn_obj.num_heads, C // attn_obj.num_heads).permute(2, 0, 3, 1, 4)\n",
    "\n",
    "        q, k, v = qkv[0] * attn_obj.scale, qkv[1], qkv[2]\n",
    "        attn = q @ k.transpose(-2, -1)\n",
    "\n",
    "        #attn = attn.softmax(dim=-1)\n",
    "        attn = attn_obj.attn_drop(attn)\n",
    "        attn_obj.attn_map = attn\n",
    "\n",
    "        x = (attn @ v).transpose(1, 2).reshape(B, N, C)\n",
    "        x = attn_obj.proj(x)\n",
    "        x = attn_obj.proj_drop(x)\n",
    "        '''\n",
    "        B, N, C = x.shape\n",
    "        qkv = attn_obj.qkv(x).reshape(B, N, 3, attn_obj.num_heads, C // attn_obj.num_heads).permute(2, 0, 3, 1, 4)\n",
    "        q, k, v = qkv[0], qkv[1], qkv[2]\n",
    "\n",
    "        attn = (q @ k.transpose(-2, -1)) * attn_obj.scale\n",
    "        attn = attn.softmax(dim=-1)\n",
    "        attn = attn_obj.attn_drop(attn)\n",
    "        attn_obj.attn_map = attn\n",
    "\n",
    "        x = (attn @ v).transpose(1, 2).reshape(B, N, C)\n",
    "        x = attn_obj.proj(x)\n",
    "        x = attn_obj.proj_drop(x)\n",
    "        '''\n",
    "        \n",
    "        return x\n",
    "\n",
    "    return my_forward"
   ]
  },
  {
   "cell_type": "code",
   "execution_count": 5,
   "id": "676d3210-63c8-4847-8847-2959f83fe7a7",
   "metadata": {},
   "outputs": [
    {
     "data": {
      "text/plain": [
       "'\\nB, N, C = x.shape\\nqkv = self.qkv(x).reshape(B, N, 3, self.num_heads, C // self.num_heads).permute(2, 0, 3, 1, 4)\\nq, k, v = qkv[0], qkv[1], qkv[2]\\n\\nattn = (q @ k.transpose(-2, -1)) * self.scale\\nattn = attn.softmax(dim=-1)\\nattn = self.attn_drop(attn)\\n\\nx = (attn @ v).transpose(1, 2).reshape(B, N, C)\\nx = self.proj(x)\\nx = self.proj_drop(x)\\nreturn x, attn\\n'"
      ]
     },
     "execution_count": 5,
     "metadata": {},
     "output_type": "execute_result"
    }
   ],
   "source": [
    "'''\n",
    "B, N, C = x.shape\n",
    "qkv = self.qkv(x).reshape(B, N, 3, self.num_heads, C // self.num_heads).permute(2, 0, 3, 1, 4)\n",
    "q, k, v = qkv[0], qkv[1], qkv[2]\n",
    "\n",
    "attn = (q @ k.transpose(-2, -1)) * self.scale\n",
    "attn = attn.softmax(dim=-1)\n",
    "attn = self.attn_drop(attn)\n",
    "\n",
    "x = (attn @ v).transpose(1, 2).reshape(B, N, C)\n",
    "x = self.proj(x)\n",
    "x = self.proj_drop(x)\n",
    "return x, attn\n",
    "'''"
   ]
  },
  {
   "cell_type": "code",
   "execution_count": null,
   "id": "a9829810-29d6-4ab6-8849-bb9ae42612f5",
   "metadata": {},
   "outputs": [
    {
     "name": "stderr",
     "output_type": "stream",
     "text": [
      "Using cache found in /home/gridsan/manderson/.cache/torch/hub/facebookresearch_dinov2_main\n"
     ]
    }
   ],
   "source": [
    "# Load backbone\n",
    "model = load_backbone('dinov2') \n",
    "model.blocks[-1].attn.forward = my_forward_wrapper(model.blocks[-1].attn)\n",
    "num_heads = model.blocks[0].attn.num_heads\n",
    "print(num_heads, 'attention heads')"
   ]
  },
  {
   "cell_type": "code",
   "execution_count": null,
   "id": "b1f09a38-c153-446c-a05e-e0375720b30b",
   "metadata": {},
   "outputs": [],
   "source": [
    "# Load and format image\n",
    "patch_size = model.patch_embed.patch_size[0]\n",
    "print('patch size:', patch_size)\n",
    "img = Image.open('/home/gridsan/manderson/ovdsat/data/simd/val/4220.jpg')\n",
    "plt.imshow(img)\n",
    "x = to_tensor(img, patch_size)\n",
    "print(x.shape) #torch.Size([1, 3, 756, 1022])\n",
    "w_featmap = x.shape[-2] // patch_size\n",
    "h_featmap = x.shape[-1] // patch_size\n",
    "print('Feature size:', w_featmap, h_featmap)"
   ]
  },
  {
   "cell_type": "code",
   "execution_count": 48,
   "id": "1c56569c-8e2d-457b-8710-02904acc9956",
   "metadata": {},
   "outputs": [
    {
     "name": "stdout",
     "output_type": "stream",
     "text": [
      "torch.Size([16, 3943, 3943])\n"
     ]
    }
   ],
   "source": [
    "# Pass image and extract attention maps\n",
    "y = model(x.unsqueeze(0))\n",
    "attn_maps = model.blocks[-1].attn.attn_map.squeeze(0)\n",
    "print(attn_maps.shape) # (feat_w * feat_h) + 1 (cls)"
   ]
  },
  {
   "cell_type": "code",
   "execution_count": 49,
   "id": "ba8c750c-ee59-4727-a8b5-89abd74f364a",
   "metadata": {},
   "outputs": [
    {
     "name": "stdout",
     "output_type": "stream",
     "text": [
      "(16, 54, 73)\n",
      "(54, 73)\n"
     ]
    }
   ],
   "source": [
    "attn_try = attn_maps[:,-1,:-1].reshape(num_heads, w_featmap, h_featmap).cpu().numpy()\n",
    "print(attn_try.shape)\n",
    "attn_try_mean = np.mean(attn_try, axis=0)\n",
    "print(attn_try_mean.shape)"
   ]
  },
  {
   "cell_type": "code",
   "execution_count": 50,
   "id": "d793e161-7eff-445b-be0e-4b485cb31ac0",
   "metadata": {},
   "outputs": [
    {
     "data": {
      "text/plain": [
       "<matplotlib.image.AxesImage at 0x7f8d2bd37f10>"
      ]
     },
     "execution_count": 50,
     "metadata": {},
     "output_type": "execute_result"
    },
    {
     "data": {
      "image/png": "[encoded data removed]",
      "text/plain": [
       "<Figure size 640x480 with 1 Axes>"
      ]
     },
     "metadata": {},
     "output_type": "display_data"
    }
   ],
   "source": [
    "plt.imshow(attn_try_mean)"
   ]
  },
  {
   "cell_type": "code",
   "execution_count": 51,
   "id": "089609af-b9ec-4fbe-a6d0-b28bdad40368",
   "metadata": {},
   "outputs": [],
   "source": [
    "max_idx = np.argmax(attn_try_mean)\n",
    "i,j = np.unravel_index(max_idx, (attn_try_mean.shape[0], attn_try_mean.shape[1]))\n",
    "attn_try_mean[i,j] = 0"
   ]
  },
  {
   "cell_type": "code",
   "execution_count": 52,
   "id": "93ad60ab-d680-40d5-adbc-4bcd0349aa3b",
   "metadata": {},
   "outputs": [
    {
     "data": {
      "text/plain": [
       "<matplotlib.image.AxesImage at 0x7f8d2bb2dee0>"
      ]
     },
     "execution_count": 52,
     "metadata": {},
     "output_type": "execute_result"
    },
    {
     "data": {
      "image/png": "[encoded data removed]",
      "text/plain": [
       "<Figure size 640x480 with 1 Axes>"
      ]
     },
     "metadata": {},
     "output_type": "display_data"
    }
   ],
   "source": [
    "plt.imshow(attn_try_mean)"
   ]
  },
  {
   "cell_type": "code",
   "execution_count": 16,
   "id": "4e8542fb-533d-4b47-81e3-b9da4e557e78",
   "metadata": {},
   "outputs": [
    {
     "name": "stdout",
     "output_type": "stream",
     "text": [
      "(16, 476, 476)\n",
      "(476, 476)\n"
     ]
    }
   ],
   "source": [
    "# Extract CLS attention to all other tokens\n",
    "attn = attn_maps[:, 0, 1:].reshape(num_heads, w_featmap, h_featmap)\n",
    "attn = nn.functional.interpolate(attn.unsqueeze(0), scale_factor=patch_size, mode=\"nearest\")[0].cpu().numpy()\n",
    "print(attn.shape)\n",
    "attn_mean = np.mean(attn, axis=0)\n",
    "print(attn_mean.shape)"
   ]
  },
  {
   "cell_type": "code",
   "execution_count": 28,
   "id": "8bfbe49e-8aff-4382-883d-a67a01f02a03",
   "metadata": {},
   "outputs": [],
   "source": [
    "max_idx = np.argmax(attn_mean)\n",
    "i,j = np.unravel_index(max_idx, (attn_mean.shape[0], attn_mean.shape[1]))\n",
    "attn_mean[i,j] = 0"
   ]
  },
  {
   "cell_type": "code",
   "execution_count": 29,
   "id": "3c326459-4522-4569-9cc2-48874920013e",
   "metadata": {},
   "outputs": [
    {
     "data": {
      "text/plain": [
       "<matplotlib.image.AxesImage at 0x7f8d2814c7c0>"
      ]
     },
     "execution_count": 29,
     "metadata": {},
     "output_type": "execute_result"
    },
    {
     "data": {
      "image/png": "[encoded data removed]",
      "text/plain": [
       "<Figure size 640x480 with 1 Axes>"
      ]
     },
     "metadata": {},
     "output_type": "display_data"
    }
   ],
   "source": [
    "plt.imshow(attn_mean)"
   ]
  },
  {
   "cell_type": "code",
   "execution_count": null,
   "id": "223747ce-2b89-4726-918f-897aacb7c61a",
   "metadata": {},
   "outputs": [],
   "source": []
  }
 ],
 "metadata": {
  "kernelspec": {
   "display_name": "Python (test)",
   "language": "python",
   "name": "test"
  },
  "language_info": {
   "codemirror_mode": {
    "name": "ipython",
    "version": 3
   },
   "file_extension": ".py",
   "mimetype": "text/x-python",
   "name": "python",
   "nbconvert_exporter": "python",
   "pygments_lexer": "ipython3",
   "version": "3.9.18"
  }
 },
 "nbformat": 4,
 "nbformat_minor": 5
}
