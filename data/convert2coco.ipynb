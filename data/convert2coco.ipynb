{
 "cells": [
  {
   "cell_type": "code",
   "execution_count": 2,
   "id": "40800f57-ec48-40d1-abda-42650d474500",
   "metadata": {},
   "outputs": [],
   "source": [
    "import os\n",
    "import json\n",
    "from PIL import Image\n",
    "from pylabel import importer, exporter, dataset\n",
    "from sklearn.model_selection import train_test_split\n",
    "import pandas as pd"
   ]
  },
  {
   "cell_type": "markdown",
   "id": "8d57c9e7-56b3-420e-bf8e-5251af746654",
   "metadata": {},
   "source": [
    "### NWPU VHR-10 Dataset"
   ]
  },
  {
   "cell_type": "code",
   "execution_count": null,
   "id": "ea307a35-a3a3-4a0d-86f6-4fcb392fac57",
   "metadata": {},
   "outputs": [],
   "source": [
    "# Define paths\n",
    "images_dir = \"/home/gridsan/manderson/ovdsat/data/nwpu/positive_image_set/\"\n",
    "annotations_dir = \"/home/gridsan/manderson/ovdsat/data/nwpu/ground_truth/\"\n",
    "\n",
    "# COCO dataset format\n",
    "coco_data = {\n",
    "    \"info\": {\n",
    "        \"description\": \"NWPU VHR-10 Dataset\",\n",
    "        \"version\": \"1.0\",\n",
    "        \"year\": 2025,\n",
    "        \"contributor\": \"NWPU\",\n",
    "        \"date_created\": \"2025-03-09\"\n",
    "    },\n",
    "    \"licenses\": [],\n",
    "    \"images\": [],\n",
    "    \"annotations\": [],\n",
    "    \"categories\": [\n",
    "        {\"id\": 1, \"name\": \"airplane\"},\n",
    "        {\"id\": 2, \"name\": \"ship\"},\n",
    "        {\"id\": 3, \"name\": \"storage tank\"},\n",
    "        {\"id\": 4, \"name\": \"baseball diamond\"},\n",
    "        {\"id\": 5, \"name\": \"tennis court\"},\n",
    "        {\"id\": 6, \"name\": \"basketball court\"},\n",
    "        {\"id\": 7, \"name\": \"ground track field\"},\n",
    "        {\"id\": 8, \"name\": \"harbor\"},\n",
    "        {\"id\": 9, \"name\": \"bridge\"},\n",
    "        {\"id\": 10, \"name\": \"vehicle\"}\n",
    "    ]\n",
    "}\n",
    "\n",
    "# Helper function to convert bbox format\n",
    "def convert_bbox(x1, y1, x2, y2):\n",
    "    \"\"\"Convert (x1, y1, x2, y2) to COCO format (x, y, width, height).\"\"\"\n",
    "    return [x1, y1, x2 - x1, y2 - y1]\n",
    "\n",
    "# Process images and annotations\n",
    "image_id = 0\n",
    "annotation_id = 0\n",
    "\n",
    "for annotation_file in sorted(os.listdir(annotations_dir)):\n",
    "    if annotation_file.endswith(\".txt\"):\n",
    "        # Get corresponding image file\n",
    "        image_file = annotation_file.replace(\".txt\", \".jpg\")\n",
    "        image_path = os.path.join(images_dir, image_file)\n",
    "\n",
    "        if not os.path.exists(image_path):\n",
    "            continue  # Skip if image is missing\n",
    "\n",
    "        # Load image for dimensions\n",
    "        with Image.open(image_path) as img:\n",
    "            width, height = img.size\n",
    "\n",
    "        # Add image info to COCO format\n",
    "        coco_data[\"images\"].append({\n",
    "            \"id\": image_id,\n",
    "            \"file_name\": image_file,\n",
    "            \"width\": width,\n",
    "            \"height\": height\n",
    "        })\n",
    "\n",
    "        # Read annotation file\n",
    "        with open(os.path.join(annotations_dir, annotation_file), \"r\") as f:\n",
    "            lines = f.readlines()\n",
    "\n",
    "        for line in lines:\n",
    "            line = line.strip().replace(\"(\", \"\").replace(\")\", \"\")\n",
    "            parts = line.split(\",\")\n",
    "\n",
    "            if len(parts) != 5:\n",
    "                continue  # Skip invalid lines\n",
    "\n",
    "            x1, y1, x2, y2, category_id = map(int, parts)\n",
    "\n",
    "            # Convert bbox format\n",
    "            bbox = convert_bbox(x1, y1, x2, y2)\n",
    "\n",
    "            # Add annotation\n",
    "            coco_data[\"annotations\"].append({\n",
    "                \"id\": annotation_id,\n",
    "                \"image_id\": image_id,\n",
    "                \"category_id\": category_id,\n",
    "                \"bbox\": bbox,\n",
    "                \"area\": bbox[2] * bbox[3],  # width * height\n",
    "                \"iscrowd\": 0\n",
    "            })\n",
    "\n",
    "            annotation_id += 1\n",
    "\n",
    "        image_id += 1\n",
    "\n",
    "# Save to COCO JSON file\n",
    "output_file = \"/home/gridsan/manderson/ovdsat/data/nwpu/nwpu_vhr10_coco.json\"\n",
    "with open(output_file, \"w\") as f:\n",
    "    json.dump(coco_data, f, indent=4)\n",
    "\n",
    "print(f\"COCO annotations saved to {output_file}\")\n"
   ]
  },
  {
   "cell_type": "code",
   "execution_count": 35,
   "id": "d9400a51-a300-4888-a7e0-6e21bd42e916",
   "metadata": {},
   "outputs": [],
   "source": [
    "dataset = importer.ImportCoco(output_file)\n",
    "df = dataset.df"
   ]
  },
  {
   "cell_type": "code",
   "execution_count": 36,
   "id": "0a2194f1-2a50-4e7c-b66a-7dae582b728f",
   "metadata": {
    "tags": []
   },
   "outputs": [
    {
     "name": "stderr",
     "output_type": "stream",
     "text": [
      "/home/gridsan/manderson/.conda/envs/test/lib/python3.9/site-packages/pylabel/exporter.py:767: FutureWarning: Downcasting behavior in `replace` is deprecated and will be removed in a future version. To retain the old behavior, explicitly call `result.infer_objects(copy=False)`. To opt-in to the future behavior, set `pd.set_option('future.no_silent_downcasting', True)`\n",
      "  df = df.replace(r\"^\\s*$\", np.nan, regex=True)\n"
     ]
    },
    {
     "name": "stdout",
     "output_type": "stream",
     "text": [
      "47\n"
     ]
    },
    {
     "name": "stderr",
     "output_type": "stream",
     "text": [
      "Exporting to COCO file...: 100%|██████████| 50/50 [00:00<00:00, 1505.98it/s]\n",
      "/home/gridsan/manderson/.conda/envs/test/lib/python3.9/site-packages/pylabel/exporter.py:767: FutureWarning: Downcasting behavior in `replace` is deprecated and will be removed in a future version. To retain the old behavior, explicitly call `result.infer_objects(copy=False)`. To opt-in to the future behavior, set `pd.set_option('future.no_silent_downcasting', True)`\n",
      "  df = df.replace(r\"^\\s*$\", np.nan, regex=True)\n"
     ]
    },
    {
     "name": "stdout",
     "output_type": "stream",
     "text": [
      "Saved /home/gridsan/manderson/ovdsat/data/nwpu/train_coco_subset_N5-1.json\n",
      "132\n"
     ]
    },
    {
     "name": "stderr",
     "output_type": "stream",
     "text": [
      "Exporting to COCO file...: 100%|██████████| 100/100 [00:00<00:00, 1631.55it/s]\n",
      "/home/gridsan/manderson/.conda/envs/test/lib/python3.9/site-packages/pylabel/exporter.py:767: FutureWarning: Downcasting behavior in `replace` is deprecated and will be removed in a future version. To retain the old behavior, explicitly call `result.infer_objects(copy=False)`. To opt-in to the future behavior, set `pd.set_option('future.no_silent_downcasting', True)`\n",
      "  df = df.replace(r\"^\\s*$\", np.nan, regex=True)\n"
     ]
    },
    {
     "name": "stdout",
     "output_type": "stream",
     "text": [
      "Saved /home/gridsan/manderson/ovdsat/data/nwpu/train_coco_subset_N10-1.json\n",
      "293\n"
     ]
    },
    {
     "name": "stderr",
     "output_type": "stream",
     "text": [
      "Exporting to COCO file...: 100%|██████████| 300/300 [00:00<00:00, 1979.01it/s]\n"
     ]
    },
    {
     "name": "stdout",
     "output_type": "stream",
     "text": [
      "Saved /home/gridsan/manderson/ovdsat/data/nwpu/train_coco_subset_N30-1.json\n"
     ]
    },
    {
     "name": "stderr",
     "output_type": "stream",
     "text": [
      "Exporting to COCO file...: 100%|██████████| 1382/1382 [00:00<00:00, 2200.33it/s]\n",
      "Exporting to COCO file...: 100%|██████████| 131/131 [00:00<00:00, 2219.79it/s]\n",
      "/home/gridsan/manderson/.conda/envs/test/lib/python3.9/site-packages/pylabel/exporter.py:767: FutureWarning: Downcasting behavior in `replace` is deprecated and will be removed in a future version. To retain the old behavior, explicitly call `result.infer_objects(copy=False)`. To opt-in to the future behavior, set `pd.set_option('future.no_silent_downcasting', True)`\n",
      "  df = df.replace(r\"^\\s*$\", np.nan, regex=True)\n"
     ]
    },
    {
     "name": "stdout",
     "output_type": "stream",
     "text": [
      "Saved /home/gridsan/manderson/ovdsat/data/nwpu/train_coco_finetune_val-1.json\n",
      "Saved /home/gridsan/manderson/ovdsat/data/nwpu/val_coco-1.json\n",
      "48\n"
     ]
    },
    {
     "name": "stderr",
     "output_type": "stream",
     "text": [
      "Exporting to COCO file...: 100%|██████████| 50/50 [00:00<00:00, 1636.48it/s]\n",
      "/home/gridsan/manderson/.conda/envs/test/lib/python3.9/site-packages/pylabel/exporter.py:767: FutureWarning: Downcasting behavior in `replace` is deprecated and will be removed in a future version. To retain the old behavior, explicitly call `result.infer_objects(copy=False)`. To opt-in to the future behavior, set `pd.set_option('future.no_silent_downcasting', True)`\n",
      "  df = df.replace(r\"^\\s*$\", np.nan, regex=True)\n"
     ]
    },
    {
     "name": "stdout",
     "output_type": "stream",
     "text": [
      "Saved /home/gridsan/manderson/ovdsat/data/nwpu/train_coco_subset_N5-2.json\n",
      "128\n"
     ]
    },
    {
     "name": "stderr",
     "output_type": "stream",
     "text": [
      "Exporting to COCO file...: 100%|██████████| 100/100 [00:00<00:00, 1788.37it/s]\n"
     ]
    },
    {
     "name": "stdout",
     "output_type": "stream",
     "text": [
      "Saved /home/gridsan/manderson/ovdsat/data/nwpu/train_coco_subset_N10-2.json\n",
      "297\n"
     ]
    },
    {
     "name": "stderr",
     "output_type": "stream",
     "text": [
      "/home/gridsan/manderson/.conda/envs/test/lib/python3.9/site-packages/pylabel/exporter.py:767: FutureWarning: Downcasting behavior in `replace` is deprecated and will be removed in a future version. To retain the old behavior, explicitly call `result.infer_objects(copy=False)`. To opt-in to the future behavior, set `pd.set_option('future.no_silent_downcasting', True)`\n",
      "  df = df.replace(r\"^\\s*$\", np.nan, regex=True)\n",
      "Exporting to COCO file...: 100%|██████████| 300/300 [00:00<00:00, 1947.93it/s]\n"
     ]
    },
    {
     "name": "stdout",
     "output_type": "stream",
     "text": [
      "Saved /home/gridsan/manderson/ovdsat/data/nwpu/train_coco_subset_N30-2.json\n"
     ]
    },
    {
     "name": "stderr",
     "output_type": "stream",
     "text": [
      "Exporting to COCO file...: 100%|██████████| 1376/1376 [00:00<00:00, 1771.87it/s]\n",
      "Exporting to COCO file...: 100%|██████████| 179/179 [00:00<00:00, 2320.32it/s]\n",
      "/home/gridsan/manderson/.conda/envs/test/lib/python3.9/site-packages/pylabel/exporter.py:767: FutureWarning: Downcasting behavior in `replace` is deprecated and will be removed in a future version. To retain the old behavior, explicitly call `result.infer_objects(copy=False)`. To opt-in to the future behavior, set `pd.set_option('future.no_silent_downcasting', True)`\n",
      "  df = df.replace(r\"^\\s*$\", np.nan, regex=True)\n"
     ]
    },
    {
     "name": "stdout",
     "output_type": "stream",
     "text": [
      "Saved /home/gridsan/manderson/ovdsat/data/nwpu/train_coco_finetune_val-2.json\n",
      "Saved /home/gridsan/manderson/ovdsat/data/nwpu/val_coco-2.json\n",
      "48\n"
     ]
    },
    {
     "name": "stderr",
     "output_type": "stream",
     "text": [
      "Exporting to COCO file...: 100%|██████████| 50/50 [00:00<00:00, 1641.02it/s]\n",
      "/home/gridsan/manderson/.conda/envs/test/lib/python3.9/site-packages/pylabel/exporter.py:767: FutureWarning: Downcasting behavior in `replace` is deprecated and will be removed in a future version. To retain the old behavior, explicitly call `result.infer_objects(copy=False)`. To opt-in to the future behavior, set `pd.set_option('future.no_silent_downcasting', True)`\n",
      "  df = df.replace(r\"^\\s*$\", np.nan, regex=True)\n"
     ]
    },
    {
     "name": "stdout",
     "output_type": "stream",
     "text": [
      "Saved /home/gridsan/manderson/ovdsat/data/nwpu/train_coco_subset_N5-3.json\n",
      "126\n"
     ]
    },
    {
     "name": "stderr",
     "output_type": "stream",
     "text": [
      "Exporting to COCO file...: 100%|██████████| 100/100 [00:00<00:00, 1813.67it/s]\n"
     ]
    },
    {
     "name": "stdout",
     "output_type": "stream",
     "text": [
      "Saved /home/gridsan/manderson/ovdsat/data/nwpu/train_coco_subset_N10-3.json\n",
      "291\n"
     ]
    },
    {
     "name": "stderr",
     "output_type": "stream",
     "text": [
      "/home/gridsan/manderson/.conda/envs/test/lib/python3.9/site-packages/pylabel/exporter.py:767: FutureWarning: Downcasting behavior in `replace` is deprecated and will be removed in a future version. To retain the old behavior, explicitly call `result.infer_objects(copy=False)`. To opt-in to the future behavior, set `pd.set_option('future.no_silent_downcasting', True)`\n",
      "  df = df.replace(r\"^\\s*$\", np.nan, regex=True)\n",
      "Exporting to COCO file...: 100%|██████████| 300/300 [00:00<00:00, 1968.08it/s]\n"
     ]
    },
    {
     "name": "stdout",
     "output_type": "stream",
     "text": [
      "Saved /home/gridsan/manderson/ovdsat/data/nwpu/train_coco_subset_N30-3.json\n"
     ]
    },
    {
     "name": "stderr",
     "output_type": "stream",
     "text": [
      "Exporting to COCO file...: 100%|██████████| 1323/1323 [00:00<00:00, 2924.19it/s]\n",
      "Exporting to COCO file...: 100%|██████████| 147/147 [00:00<00:00, 3186.06it/s]\n",
      "/home/gridsan/manderson/.conda/envs/test/lib/python3.9/site-packages/pylabel/exporter.py:767: FutureWarning: Downcasting behavior in `replace` is deprecated and will be removed in a future version. To retain the old behavior, explicitly call `result.infer_objects(copy=False)`. To opt-in to the future behavior, set `pd.set_option('future.no_silent_downcasting', True)`\n",
      "  df = df.replace(r\"^\\s*$\", np.nan, regex=True)\n"
     ]
    },
    {
     "name": "stdout",
     "output_type": "stream",
     "text": [
      "Saved /home/gridsan/manderson/ovdsat/data/nwpu/train_coco_finetune_val-3.json\n",
      "Saved /home/gridsan/manderson/ovdsat/data/nwpu/val_coco-3.json\n",
      "49\n"
     ]
    },
    {
     "name": "stderr",
     "output_type": "stream",
     "text": [
      "Exporting to COCO file...: 100%|██████████| 50/50 [00:00<00:00, 373.65it/s]\n",
      "/home/gridsan/manderson/.conda/envs/test/lib/python3.9/site-packages/pylabel/exporter.py:767: FutureWarning: Downcasting behavior in `replace` is deprecated and will be removed in a future version. To retain the old behavior, explicitly call `result.infer_objects(copy=False)`. To opt-in to the future behavior, set `pd.set_option('future.no_silent_downcasting', True)`\n",
      "  df = df.replace(r\"^\\s*$\", np.nan, regex=True)\n"
     ]
    },
    {
     "name": "stdout",
     "output_type": "stream",
     "text": [
      "Saved /home/gridsan/manderson/ovdsat/data/nwpu/train_coco_subset_N5-4.json\n",
      "126\n"
     ]
    },
    {
     "name": "stderr",
     "output_type": "stream",
     "text": [
      "Exporting to COCO file...: 100%|██████████| 100/100 [00:00<00:00, 2512.27it/s]\n",
      "/home/gridsan/manderson/.conda/envs/test/lib/python3.9/site-packages/pylabel/exporter.py:767: FutureWarning: Downcasting behavior in `replace` is deprecated and will be removed in a future version. To retain the old behavior, explicitly call `result.infer_objects(copy=False)`. To opt-in to the future behavior, set `pd.set_option('future.no_silent_downcasting', True)`\n",
      "  df = df.replace(r\"^\\s*$\", np.nan, regex=True)\n"
     ]
    },
    {
     "name": "stdout",
     "output_type": "stream",
     "text": [
      "Saved /home/gridsan/manderson/ovdsat/data/nwpu/train_coco_subset_N10-4.json\n",
      "279\n"
     ]
    },
    {
     "name": "stderr",
     "output_type": "stream",
     "text": [
      "Exporting to COCO file...: 100%|██████████| 300/300 [00:00<00:00, 2756.03it/s]\n"
     ]
    },
    {
     "name": "stdout",
     "output_type": "stream",
     "text": [
      "Saved /home/gridsan/manderson/ovdsat/data/nwpu/train_coco_subset_N30-4.json\n"
     ]
    },
    {
     "name": "stderr",
     "output_type": "stream",
     "text": [
      "Exporting to COCO file...: 100%|██████████| 1377/1377 [00:00<00:00, 3057.64it/s]\n",
      "Exporting to COCO file...: 100%|██████████| 177/177 [00:00<00:00, 2305.24it/s]\n",
      "/home/gridsan/manderson/.conda/envs/test/lib/python3.9/site-packages/pylabel/exporter.py:767: FutureWarning: Downcasting behavior in `replace` is deprecated and will be removed in a future version. To retain the old behavior, explicitly call `result.infer_objects(copy=False)`. To opt-in to the future behavior, set `pd.set_option('future.no_silent_downcasting', True)`\n",
      "  df = df.replace(r\"^\\s*$\", np.nan, regex=True)\n"
     ]
    },
    {
     "name": "stdout",
     "output_type": "stream",
     "text": [
      "Saved /home/gridsan/manderson/ovdsat/data/nwpu/train_coco_finetune_val-4.json\n",
      "Saved /home/gridsan/manderson/ovdsat/data/nwpu/val_coco-4.json\n",
      "47\n"
     ]
    },
    {
     "name": "stderr",
     "output_type": "stream",
     "text": [
      "Exporting to COCO file...: 100%|██████████| 50/50 [00:00<00:00, 2189.32it/s]\n",
      "/home/gridsan/manderson/.conda/envs/test/lib/python3.9/site-packages/pylabel/exporter.py:767: FutureWarning: Downcasting behavior in `replace` is deprecated and will be removed in a future version. To retain the old behavior, explicitly call `result.infer_objects(copy=False)`. To opt-in to the future behavior, set `pd.set_option('future.no_silent_downcasting', True)`\n",
      "  df = df.replace(r\"^\\s*$\", np.nan, regex=True)\n"
     ]
    },
    {
     "name": "stdout",
     "output_type": "stream",
     "text": [
      "Saved /home/gridsan/manderson/ovdsat/data/nwpu/train_coco_subset_N5-5.json\n",
      "128\n"
     ]
    },
    {
     "name": "stderr",
     "output_type": "stream",
     "text": [
      "Exporting to COCO file...: 100%|██████████| 100/100 [00:00<00:00, 1795.36it/s]\n",
      "/home/gridsan/manderson/.conda/envs/test/lib/python3.9/site-packages/pylabel/exporter.py:767: FutureWarning: Downcasting behavior in `replace` is deprecated and will be removed in a future version. To retain the old behavior, explicitly call `result.infer_objects(copy=False)`. To opt-in to the future behavior, set `pd.set_option('future.no_silent_downcasting', True)`\n",
      "  df = df.replace(r\"^\\s*$\", np.nan, regex=True)\n"
     ]
    },
    {
     "name": "stdout",
     "output_type": "stream",
     "text": [
      "Saved /home/gridsan/manderson/ovdsat/data/nwpu/train_coco_subset_N10-5.json\n",
      "299\n"
     ]
    },
    {
     "name": "stderr",
     "output_type": "stream",
     "text": [
      "Exporting to COCO file...: 100%|██████████| 300/300 [00:00<00:00, 2273.57it/s]\n"
     ]
    },
    {
     "name": "stdout",
     "output_type": "stream",
     "text": [
      "Saved /home/gridsan/manderson/ovdsat/data/nwpu/train_coco_subset_N30-5.json\n"
     ]
    },
    {
     "name": "stderr",
     "output_type": "stream",
     "text": [
      "Exporting to COCO file...: 100%|██████████| 1271/1271 [00:00<00:00, 2498.43it/s]\n",
      "Exporting to COCO file...: 100%|██████████| 146/146 [00:00<00:00, 3211.73it/s]"
     ]
    },
    {
     "name": "stdout",
     "output_type": "stream",
     "text": [
      "Saved /home/gridsan/manderson/ovdsat/data/nwpu/train_coco_finetune_val-5.json\n",
      "Saved /home/gridsan/manderson/ovdsat/data/nwpu/val_coco-5.json\n"
     ]
    },
    {
     "name": "stderr",
     "output_type": "stream",
     "text": [
      "\n"
     ]
    }
   ],
   "source": [
    "# Create data splits\n",
    "save_dir = '/home/gridsan/manderson/ovdsat/data/nwpu'\n",
    "\n",
    "for M in [1, 2, 3, 4, 5]:\n",
    "    img_ids = set()\n",
    "    for N in [5, 10, 30]:\n",
    "        train_file = f'{save_dir}/train_coco_subset_N{N}-{M}.json'\n",
    "        val_file = f'{save_dir}/val_coco-{M}.json'\n",
    "        finetune_val_file = f'{save_dir}/train_coco_finetune_val-{M}.json'\n",
    "        \n",
    "        N_samples_list = []\n",
    "\n",
    "        for value, group in df.groupby('cat_id'):\n",
    "            sampled_group = group.sample(n=min(N, len(group)))\n",
    "            N_samples_list.append(sampled_group)\n",
    "            for img_id in sampled_group['img_id'].tolist():\n",
    "                img_ids.add(img_id)\n",
    "        print(len(img_ids))\n",
    "\n",
    "        N_samples_df = pd.concat(N_samples_list, ignore_index=True)\n",
    "        N_samples_df = N_samples_df.reset_index(drop=True)\n",
    "        pylabel_df_N = importer.Dataset(N_samples_df)\n",
    "        exp = exporter.Export(pylabel_df_N)\n",
    "        exp.ExportToCoco(output_path=train_file, cat_id_index=0)\n",
    "        \n",
    "        with open(train_file, 'r') as f:\n",
    "            train_data = json.load(f)\n",
    "        sorted_cat = sorted(train_data['categories'], key=lambda x: x['id'])\n",
    "        train_data['categories'] = sorted_cat\n",
    "        with open(f'{train_file[:-5]}.json', 'w') as f:\n",
    "            json.dump(train_data, f, indent=4)\n",
    "        print(f'Saved {train_file[:-5]}.json')\n",
    "\n",
    "\n",
    "    # Remaining do not overlap with the N-shots\n",
    "    remaining_df = df[~df['img_id'].isin(img_ids)]\n",
    "    remaining_img_ids = remaining_df['img_id'].unique()\n",
    "\n",
    "    # Split into train and test\n",
    "    ft_percent = 0.1\n",
    "    val_ids, ft_ids = train_test_split(remaining_img_ids, test_size=ft_percent)\n",
    "\n",
    "    val_df = df[df['img_id'].isin(val_ids)]\n",
    "    val_df = val_df.reset_index(drop=True)\n",
    "    pylabel_val_df = importer.Dataset(val_df)\n",
    "    exp = exporter.Export(pylabel_val_df)\n",
    "    exp.ExportToCoco(output_path=val_file, cat_id_index=0)\n",
    "\n",
    "    ft_df = df[df['img_id'].isin(ft_ids)]\n",
    "    ft_df = ft_df.reset_index(drop=True)\n",
    "    pylabel_ft_df = importer.Dataset(ft_df)\n",
    "    exp = exporter.Export(pylabel_ft_df)\n",
    "    exp.ExportToCoco(output_path=finetune_val_file, cat_id_index=0)\n",
    "        \n",
    "    ### Fix categories\n",
    "    with open(finetune_val_file, 'r') as f:\n",
    "        finetune_val_data = json.load(f)\n",
    "    sorted_cat = sorted(finetune_val_data['categories'], key=lambda x: x['id'])\n",
    "    finetune_val_data['categories'] = sorted_cat  \n",
    "    with open(f'{finetune_val_file[:-5]}.json', 'w') as f:\n",
    "        json.dump(finetune_val_data, f, indent=4)\n",
    "    print(f'Saved {finetune_val_file[:-5]}.json')\n",
    "\n",
    "    val_file = f'{save_dir}/val_coco-{M}.json'\n",
    "    with open(val_file, 'r') as f:\n",
    "        val_data = json.load(f)\n",
    "    sorted_cat = sorted(val_data['categories'], key=lambda x: x['id'])\n",
    "    val_data['categories'] = sorted_cat\n",
    "    with open(f'{val_file[:-5]}.json', 'w') as f:\n",
    "        json.dump(val_data, f, indent=4)\n",
    "    print(f'Saved {val_file[:-5]}.json')"
   ]
  },
  {
   "cell_type": "markdown",
   "id": "c09881ab-f9ad-4284-89af-ff9cceec22c2",
   "metadata": {},
   "source": [
    "### SIMD"
   ]
  },
  {
   "cell_type": "code",
   "execution_count": 3,
   "id": "9f6756fb-10f6-4446-8b3a-60b9a8a0a879",
   "metadata": {},
   "outputs": [],
   "source": [
    "def merge_coco_json(json_files, output_file):\n",
    "    merged_data = {\n",
    "        \"info\": None,\n",
    "        \"licenses\": [],\n",
    "        \"images\": [],\n",
    "        \"annotations\": [],\n",
    "        \"categories\": []\n",
    "    }\n",
    "\n",
    "    for idx, json_file in enumerate(json_files):\n",
    "        with open(json_file, 'r', encoding='utf-8') as f:\n",
    "            data = json.load(f)\n",
    "\n",
    "        # Take 'info' from the first file only\n",
    "        if idx == 0 and \"info\" in data:\n",
    "            merged_data[\"info\"] = data[\"info\"]\n",
    "\n",
    "        # Merge lists\n",
    "        merged_data[\"licenses\"].extend(data.get(\"licenses\", []))\n",
    "        merged_data[\"images\"].extend(data[\"images\"])\n",
    "        merged_data[\"annotations\"].extend(data[\"annotations\"])\n",
    "        merged_data[\"categories\"].extend(data[\"categories\"])\n",
    "\n",
    "    # Save the merged JSON\n",
    "    with open(output_file, 'w', encoding='utf-8') as f:\n",
    "        json.dump(merged_data, f, indent=4)\n",
    "\n",
    "    print(f\"Merged COCO JSON saved as {output_file}\")"
   ]
  },
  {
   "cell_type": "code",
   "execution_count": 4,
   "id": "26005ad6-72ea-4f62-92c9-1286c6621ff7",
   "metadata": {},
   "outputs": [
    {
     "name": "stdout",
     "output_type": "stream",
     "text": [
      "Merged COCO JSON saved as /home/gridsan/manderson/ovdsat/data/simd/simd_coco.json\n"
     ]
    }
   ],
   "source": [
    "# Example Usage\n",
    "json_files = [\"/home/gridsan/manderson/ovdsat/data/simd/train_coco_finetune_val.json\", \n",
    "              \"/home/gridsan/manderson/ovdsat/data/simd/train_coco_subset_N5.json\",\n",
    "              \"/home/gridsan/manderson/ovdsat/data/simd/train_coco_subset_N10.json\",\n",
    "              \"/home/gridsan/manderson/ovdsat/data/simd/train_coco_subset_N30.json\"]  # Replace with your actual JSON file paths\n",
    "output_file = \"/home/gridsan/manderson/ovdsat/data/simd/simd_coco.json\"\n",
    "merge_coco_json(json_files, output_file)"
   ]
  },
  {
   "cell_type": "code",
   "execution_count": null,
   "id": "2085a718-2686-42e3-a9bd-3c4c00cb0662",
   "metadata": {},
   "outputs": [],
   "source": []
  }
 ],
 "metadata": {
  "kernelspec": {
   "display_name": "Python (test)",
   "language": "python",
   "name": "test"
  },
  "language_info": {
   "codemirror_mode": {
    "name": "ipython",
    "version": 3
   },
   "file_extension": ".py",
   "mimetype": "text/x-python",
   "name": "python",
   "nbconvert_exporter": "python",
   "pygments_lexer": "ipython3",
   "version": "3.9.18"
  }
 },
 "nbformat": 4,
 "nbformat_minor": 5
}
